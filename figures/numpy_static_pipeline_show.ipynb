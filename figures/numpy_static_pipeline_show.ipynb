version https://git-lfs.github.com/spec/v1
oid sha256:1aa4dd8b078ccd39d7840170a6e2b53758114f0740094fd526cf3a9b59ffb116
size 1906780
